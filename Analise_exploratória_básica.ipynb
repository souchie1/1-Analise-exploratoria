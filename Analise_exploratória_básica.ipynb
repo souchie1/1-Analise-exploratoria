{
  "nbformat": 4,
  "nbformat_minor": 0,
  "metadata": {
    "colab": {
      "provenance": [],
      "authorship_tag": "ABX9TyPNtn0l7fGfQGVB86fGFJsW",
      "include_colab_link": true
    },
    "kernelspec": {
      "name": "python3",
      "display_name": "Python 3"
    },
    "language_info": {
      "name": "python"
    }
  },
  "cells": [
    {
      "cell_type": "markdown",
      "metadata": {
        "id": "view-in-github",
        "colab_type": "text"
      },
      "source": [
        "<a href=\"https://colab.research.google.com/github/souchie1/exp/blob/main/Analise_explorat%C3%B3ria_b%C3%A1sica.ipynb\" target=\"_parent\"><img src=\"https://colab.research.google.com/assets/colab-badge.svg\" alt=\"Open In Colab\"/></a>"
      ]
    },
    {
      "cell_type": "code",
      "execution_count": 1,
      "metadata": {
        "id": "Ci2zV72yimBt"
      },
      "outputs": [],
      "source": [
        "# importar as bibliotecas\n",
        "import pandas as pd\n",
        "import matplotlib.pyplot as plt\n"
      ]
    },
    {
      "cell_type": "code",
      "source": [
        "# carregando os dados\n",
        "# Substitua 'caminho/do/arquivo.csv' pelo caminho do seu arquivo de dados\n",
        "dados_cosmeticos = pd.read_csv('caminho/do/arquivo.csv')\n"
      ],
      "metadata": {
        "id": "kM-OJB7Ji0qR"
      },
      "execution_count": null,
      "outputs": []
    },
    {
      "cell_type": "code",
      "source": [
        "# explorando os dados iniciais\n",
        "print(dados_cosmeticos.head())\n",
        "print(dados_cosmeticos.info())\n",
        "print(dados_cosmeticos.describe())\n"
      ],
      "metadata": {
        "id": "oFuCPns_i-uE"
      },
      "execution_count": null,
      "outputs": []
    },
    {
      "cell_type": "code",
      "source": [
        "# verificando dados ausentes\n",
        "print(dados_cosmeticos.isnull().sum())\n"
      ],
      "metadata": {
        "id": "8CO902VGjESP"
      },
      "execution_count": null,
      "outputs": []
    },
    {
      "cell_type": "code",
      "source": [
        "# anailise inicial das vendas\n",
        "# Distribuição de preços\n",
        "plt.figure(figsize=(10, 6))\n",
        "plt.hist(dados_cosmeticos['preco'], bins=20, color='skyblue', edgecolor='black')\n",
        "plt.title('Distribuição de Preços')\n",
        "plt.xlabel('Preço')\n",
        "plt.ylabel('Frequência')\n",
        "plt.show()\n",
        "\n",
        "# Produtos mais vendidos\n",
        "produtos_mais_vendidos = dados_cosmeticos['produto'].value_counts().head(10)\n",
        "plt.figure(figsize=(10, 6))\n",
        "produtos_mais_vendidos.plot(kind='bar', color='purple')\n",
        "plt.title('Produtos Mais Vendidos')\n",
        "plt.xlabel('Produto')\n",
        "plt.ylabel('Quantidade')\n",
        "plt.xticks(rotation=45)\n",
        "plt.show()\n"
      ],
      "metadata": {
        "id": "zO9xe8ngjKBd"
      },
      "execution_count": null,
      "outputs": []
    },
    {
      "cell_type": "code",
      "source": [
        "# analise por categoria\n",
        "# Vendas por categoria\n",
        "vendas_por_categoria = dados_cosmeticos.groupby('categoria')['vendas'].sum().sort_values(ascending=False)\n",
        "plt.figure(figsize=(10, 6))\n",
        "vendas_por_categoria.plot(kind='bar', color='green')\n",
        "plt.title('Vendas por Categoria')\n",
        "plt.xlabel('Categoria')\n",
        "plt.ylabel('Vendas')\n",
        "plt.xticks(rotation=45)\n",
        "plt.show()\n"
      ],
      "metadata": {
        "id": "RWJk7mHmjPUE"
      },
      "execution_count": null,
      "outputs": []
    },
    {
      "cell_type": "code",
      "source": [
        "# correlação das variáveis\n",
        "correlation_matrix = dados_cosmeticos[['preco', 'vendas']].corr()\n",
        "print(correlation_matrix)\n"
      ],
      "metadata": {
        "id": "nSkRPiXSjaPL"
      },
      "execution_count": null,
      "outputs": []
    },
    {
      "cell_type": "markdown",
      "source": [
        "Lembre-se de que essa é uma análise básica para ajudar a identificar pontos para melhorar as vendas. Dependendo dos dados disponíveis e dos objetivos específicos da análise, você pode explorar mais variáveis, aplicar modelos de aprendizado de máquina para prever vendas ou realizar análises mais avançadas."
      ],
      "metadata": {
        "id": "CfXOiCf0jlmc"
      }
    }
  ]
}